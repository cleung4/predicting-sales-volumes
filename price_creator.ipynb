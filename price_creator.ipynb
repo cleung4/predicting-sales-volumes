{
 "cells": [
  {
   "cell_type": "markdown",
   "id": "5fd5a0fe",
   "metadata": {},
   "source": [
    "Short script to append random pricing to items. "
   ]
  },
  {
   "cell_type": "code",
   "execution_count": null,
   "id": "7b1844bf",
   "metadata": {},
   "outputs": [
    {
     "name": "stdout",
     "output_type": "stream",
     "text": [
      "Prices added and file saved.\n"
     ]
    }
   ],
   "source": [
    "import pandas as pd\n",
    "import numpy as np\n",
    "from pathlib import Path\n",
    "\n",
    "# Load your Excel file\n",
    "file_path = Path(r\"windows_file_path\", index_col=0)\n",
    "df = pd.read_csv(file_path)\n",
    "\n",
    "# Create consistent random prices for item numbers 1-50\n",
    "np.random.seed(42)  # Optional: ensures repeatability\n",
    "item_prices = item_prices = {\n",
    "    item: round(np.random.uniform(1, 20), 2)\n",
    "    for item in range(1, 51)\n",
    "}\n",
    "\n",
    "# Map prices to the dataframe\n",
    "df['price'] = df['item'].map(item_prices)\n",
    "\n",
    "# Save to new Excel file\n",
    "output_path = Path(r\"windows_file_path\")\n",
    "df.to_csv(output_path, index=False)\n",
    "\n",
    "print(\"Prices added and file saved.\")\n"
   ]
  }
 ],
 "metadata": {
  "kernelspec": {
   "display_name": "Python 3",
   "language": "python",
   "name": "python3"
  },
  "language_info": {
   "codemirror_mode": {
    "name": "ipython",
    "version": 3
   },
   "file_extension": ".py",
   "mimetype": "text/x-python",
   "name": "python",
   "nbconvert_exporter": "python",
   "pygments_lexer": "ipython3",
   "version": "3.11.9"
  }
 },
 "nbformat": 4,
 "nbformat_minor": 5
}
